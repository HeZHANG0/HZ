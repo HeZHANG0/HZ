{
  "nbformat": 4,
  "nbformat_minor": 0,
  "metadata": {
    "colab": {
      "name": "A/B test.ipynb",
      "provenance": [],
      "collapsed_sections": [],
      "authorship_tag": "ABX9TyMDZOB2873N9fTFZqm+zkng",
      "include_colab_link": true
    },
    "kernelspec": {
      "name": "python3",
      "display_name": "Python 3"
    }
  },
  "cells": [
    {
      "cell_type": "markdown",
      "metadata": {
        "id": "view-in-github",
        "colab_type": "text"
      },
      "source": [
        "<a href=\"https://colab.research.google.com/github/HeZHANG0/HZ/blob/master/ABtest/A_B_test.ipynb\" target=\"_parent\"><img src=\"https://colab.research.google.com/assets/colab-badge.svg\" alt=\"Open In Colab\"/></a>"
      ]
    },
    {
      "cell_type": "code",
      "metadata": {
        "id": "BEc4uYiEDaEB",
        "colab_type": "code",
        "colab": {}
      },
      "source": [
        "#set up\n",
        "import numpy as np"
      ],
      "execution_count": 0,
      "outputs": []
    },
    {
      "cell_type": "markdown",
      "metadata": {
        "id": "jfkF8QpVEoF2",
        "colab_type": "text"
      },
      "source": [
        "## Intro"
      ]
    },
    {
      "cell_type": "markdown",
      "metadata": {
        "id": "yRTHb_anEqkg",
        "colab_type": "text"
      },
      "source": [
        "This AB test is for an experiment conducted by Udacity (the data has been modified). Udacity tested a change where if a student clicked \"start free trial\", they were asked how much time they had available to devote to the course. If a student indicated less than 5 hours, he or she would be suggested accessing the course materials for free. If more, he or she would check out as usual. The hypothesis was that this might set clearer expectations for students, therefore reducing the number of students leaving the course because of lack of time while not affecting the number of students to continue past the free trial. The unit of diversion is a cookie.\n",
        "\n",
        "This report contains experiment design and experiment analysis. For experiment design, I reason invariant metrics and evaluation metrics I choose and calculate variability and sizing. As the test passed sanity check, I then dive into analyzing the evaluation metrics and propose recommendations.\n"
      ]
    },
    {
      "cell_type": "markdown",
      "metadata": {
        "id": "hxmQyCArDhKC",
        "colab_type": "text"
      },
      "source": [
        "## Experiment Design"
      ]
    },
    {
      "cell_type": "markdown",
      "metadata": {
        "id": "jKG940icD0Ji",
        "colab_type": "text"
      },
      "source": [
        "### Metric Choice"
      ]
    },
    {
      "cell_type": "markdown",
      "metadata": {
        "id": "W47SqrgxD2kC",
        "colab_type": "text"
      },
      "source": [
        "**Invatiant metrics:**\n",
        "\n",
        "These metrics are supposed to not vary significantly from the control group to the experiment group. Therefore, they will be used for sanity check.\n",
        "\n",
        "**Number of cookies.** Number of unique cookies to view the course overview page.\n",
        "\n",
        "**Number of clicks.** Number of unique coockes to click the \"start free trial\" button.\n",
        "\n",
        "**Click-through-probability.** Number of unique cookies to click the \"Start free trial\" button divided by number of unique cookies to new the course overview page.\n",
        "\n",
        "**Evaluation metrics:**\n",
        "\n",
        "These are proposed evaluation metrics. Keeping our goal in mind, we care about the net conversion the most, which is the number of payments divided by the number of enrollments.\n",
        "\n",
        "**Gross conversion.** Number of user-ids to complete checkout and enroll in the free trial divided by number of unique cookies to click the \"start free trial\" button.\n",
        "\n",
        "**Retention.** Number of user-ids to remain enrolled past the 14-day boundary divided by number of user-ids to complete checkout.\n",
        "\n",
        "**Net conversion.** Number of user-ids to remain enrolled past the 14-day boundary divided by the number of unique coockies to click the \"Start free trial\" button."
      ]
    },
    {
      "cell_type": "markdown",
      "metadata": {
        "id": "y-DXzdH7D7-M",
        "colab_type": "text"
      },
      "source": [
        "### Measuring Stardard Deviation"
      ]
    },
    {
      "cell_type": "markdown",
      "metadata": {
        "id": "q-onDZ14D_WE",
        "colab_type": "text"
      },
      "source": [
        "The Standard deviation of the evaluation metrics, given a sample size of 5000:"
      ]
    },
    {
      "cell_type": "code",
      "metadata": {
        "id": "yGuN2xbVRv3d",
        "colab_type": "code",
        "colab": {}
      },
      "source": [
        "# Baseline\n",
        "baseline = {\"Cookies\":40000,\"Clicks\":3200,\"Enrollments\":660,\"CTP\":0.08,\"GConversion\":0.20625,\n",
        "           \"Retention\":0.53,\"NConversion\":0.109313}"
      ],
      "execution_count": 0,
      "outputs": []
    },
    {
      "cell_type": "code",
      "metadata": {
        "id": "gI3G0x4zSWmI",
        "colab_type": "code",
        "colab": {}
      },
      "source": [
        "# Calculate the SD of gross conversion, retention, and net conversion \n",
        "# fisrt, scale the baseline sizes to the sample size\n",
        "baseline['Cookies']=5000\n",
        "baseline['Clicks']= baseline['Clicks']*5000/40000\n",
        "baseline['Enrollments']= baseline['Enrollments']*5000/40000"
      ],
      "execution_count": 0,
      "outputs": []
    },
    {
      "cell_type": "code",
      "metadata": {
        "id": "pyuFQ3I8S1eJ",
        "colab_type": "code",
        "colab": {}
      },
      "source": [
        "def calculate_sd(pr, size):\n",
        "  result= (pr*(1-pr)/(size))**0.5\n",
        "  print(result)\n",
        "  return result"
      ],
      "execution_count": 0,
      "outputs": []
    },
    {
      "cell_type": "code",
      "metadata": {
        "id": "ve3lo8pLUGj1",
        "colab_type": "code",
        "outputId": "b100e892-7a7f-4a07-eaeb-fe1ca20d1bff",
        "colab": {
          "base_uri": "https://localhost:8080/",
          "height": 67
        }
      },
      "source": [
        "sd_GConversion= calculate_sd(baseline['GConversion'], baseline['Clicks'])\n",
        "sd_Retention= calculate_sd(baseline['Retention'], baseline['Enrollments'])\n",
        "sd_NVonversion= calculate_sd(baseline['NConversion'], baseline['Clicks'])"
      ],
      "execution_count": 67,
      "outputs": [
        {
          "output_type": "stream",
          "text": [
            "0.020230604137049392\n",
            "0.05494901217850908\n",
            "0.015601575884425905\n"
          ],
          "name": "stdout"
        }
      ]
    },
    {
      "cell_type": "markdown",
      "metadata": {
        "id": "GM6a0wTjETiS",
        "colab_type": "text"
      },
      "source": [
        "### Sizing"
      ]
    },
    {
      "cell_type": "markdown",
      "metadata": {
        "id": "wzrQgQlpEVdV",
        "colab_type": "text"
      },
      "source": [
        "#### Number of Samples vs. Power\n",
        "\n",
        "Use Bonferroni correction in the analysis phase. I started with three metrics, then dropped the retention rate because it would require too large sizing. Therefore, the corrected alpha should be 0.05/2."
      ]
    },
    {
      "cell_type": "code",
      "metadata": {
        "id": "OMIcfJ2paIhe",
        "colab_type": "code",
        "colab": {}
      },
      "source": [
        "# Calculate pageview numbers\n",
        "alpha= 0.05\n",
        "beta= 0.2"
      ],
      "execution_count": 0,
      "outputs": []
    },
    {
      "cell_type": "code",
      "metadata": {
        "id": "1M6Y-0srJSzF",
        "colab_type": "code",
        "colab": {}
      },
      "source": [
        "from scipy.stats import norm\n",
        "def get_z_star(alpha):\n",
        "  return -norm.ppf(alpha/2)\n",
        "\n",
        "def get_beta(z_star,s,d_min,N):\n",
        "  SE=s/(N**0.5)\n",
        "  return norm.cdf(z_star*SE, loc= d_min, scale=SE)\n",
        "\n",
        "# s is the pooled standard error for N=1 in each group,\n",
        "# which is sqrt(p*(1-p)*(1/1 + 1/1))\n",
        "def required_size(s, d_min, Ns,alpha=0.05,beta=0.2):\n",
        "  for N in Ns:\n",
        "    if get_beta(get_z_star(alpha),s,d_min,N)<= beta :\n",
        "      return N\n",
        "  return -1"
      ],
      "execution_count": 0,
      "outputs": []
    },
    {
      "cell_type": "code",
      "metadata": {
        "id": "W0b-hEATNJYX",
        "colab_type": "code",
        "outputId": "2b961044-c493-40b0-e237-1c84acfe86d4",
        "colab": {
          "base_uri": "https://localhost:8080/",
          "height": 34
        }
      },
      "source": [
        "# Calculate separately for three metrics\n",
        "# For Gross conversion\n",
        "Ns= np.arange(10000,50000,1).tolist()\n",
        "s= (2*baseline['GConversion']*(1-baseline['GConversion']))**0.5\n",
        "#As we have two groups, size *2\n",
        "c_size= 2*required_size(s,d_min=0.01,Ns=Ns,alpha=alpha,beta=beta)\n",
        "pageview_size= c_size*40000/3200\n",
        "pageview_size"
      ],
      "execution_count": 70,
      "outputs": [
        {
          "output_type": "execute_result",
          "data": {
            "text/plain": [
              "642475.0"
            ]
          },
          "metadata": {
            "tags": []
          },
          "execution_count": 70
        }
      ]
    },
    {
      "cell_type": "code",
      "metadata": {
        "id": "24MXAdQaRNTf",
        "colab_type": "code",
        "colab": {}
      },
      "source": [
        "# For Retention\n",
        "# Because the required pageview number is too large, I got rid of this metric.\n",
        "# Ns= np.arange(10000,500000,1).tolist()\n",
        "# s= (2*baseline['Retention']*(1-baseline['Retention']))**0.5\n",
        "# c_size= 2*required_size(s,d_min=0.01,Ns=Ns,alpha=alpha,beta=beta)\n",
        "# pageview_size= c_size*40000/3200\n",
        "# pageview_size"
      ],
      "execution_count": 0,
      "outputs": []
    },
    {
      "cell_type": "code",
      "metadata": {
        "id": "5TtccQD1RNZj",
        "colab_type": "code",
        "outputId": "1400a704-a3ee-4bf0-faf5-156f0d26156c",
        "colab": {
          "base_uri": "https://localhost:8080/",
          "height": 34
        }
      },
      "source": [
        "# For net conversion\n",
        "Ns= np.arange(10000,50000,1).tolist()\n",
        "s= (2*baseline['NConversion']*(1-baseline['NConversion']))**0.5\n",
        "c_size= 2*required_size(s,d_min=0.0075,Ns=Ns,alpha=alpha,beta=beta)\n",
        "pageview_size= c_size*40000/3200\n",
        "pageview_size"
      ],
      "execution_count": 71,
      "outputs": [
        {
          "output_type": "execute_result",
          "data": {
            "text/plain": [
              "679300.0"
            ]
          },
          "metadata": {
            "tags": []
          },
          "execution_count": 71
        }
      ]
    },
    {
      "cell_type": "markdown",
      "metadata": {
        "id": "1zKqt_hqEjVN",
        "colab_type": "text"
      },
      "source": [
        "#### Duration vs. Exposure\n"
      ]
    },
    {
      "cell_type": "markdown",
      "metadata": {
        "id": "JYY77u_raUvl",
        "colab_type": "text"
      },
      "source": [
        "The number of pageview required is 822625. So I would take 80% of Udacity's everyday traffic (32000) and have the experiment last for 26 days. "
      ]
    },
    {
      "cell_type": "markdown",
      "metadata": {
        "id": "BvjveKDmGU04",
        "colab_type": "text"
      },
      "source": [
        "## Experiment Analysis"
      ]
    },
    {
      "cell_type": "code",
      "metadata": {
        "id": "7FtSYgPq0Hqz",
        "colab_type": "code",
        "outputId": "3df755ed-5172-4ef1-e599-fb0c249d47ed",
        "colab": {
          "base_uri": "https://localhost:8080/",
          "height": 34
        }
      },
      "source": [
        "# Set up\n",
        "from google.colab import drive\n",
        "drive.mount('/content/gdrive')"
      ],
      "execution_count": 72,
      "outputs": [
        {
          "output_type": "stream",
          "text": [
            "Drive already mounted at /content/gdrive; to attempt to forcibly remount, call drive.mount(\"/content/gdrive\", force_remount=True).\n"
          ],
          "name": "stdout"
        }
      ]
    },
    {
      "cell_type": "code",
      "metadata": {
        "id": "CyHc2DcL0NOG",
        "colab_type": "code",
        "colab": {}
      },
      "source": [
        "import pandas as pd\n",
        "control= pd.read_csv('/content/gdrive/My Drive/online courses/Control.csv')\n",
        "experiment= pd.read_csv('/content/gdrive/My Drive/online courses/Experiment.csv')"
      ],
      "execution_count": 0,
      "outputs": []
    },
    {
      "cell_type": "code",
      "metadata": {
        "id": "8DTnGVlL47h2",
        "colab_type": "code",
        "outputId": "64794a2f-01a8-45da-cd10-ed6afddc0a4a",
        "colab": {
          "base_uri": "https://localhost:8080/",
          "height": 1000
        }
      },
      "source": [
        "control"
      ],
      "execution_count": 74,
      "outputs": [
        {
          "output_type": "execute_result",
          "data": {
            "text/html": [
              "<div>\n",
              "<style scoped>\n",
              "    .dataframe tbody tr th:only-of-type {\n",
              "        vertical-align: middle;\n",
              "    }\n",
              "\n",
              "    .dataframe tbody tr th {\n",
              "        vertical-align: top;\n",
              "    }\n",
              "\n",
              "    .dataframe thead th {\n",
              "        text-align: right;\n",
              "    }\n",
              "</style>\n",
              "<table border=\"1\" class=\"dataframe\">\n",
              "  <thead>\n",
              "    <tr style=\"text-align: right;\">\n",
              "      <th></th>\n",
              "      <th>Date</th>\n",
              "      <th>Pageviews</th>\n",
              "      <th>Clicks</th>\n",
              "      <th>Enrollments</th>\n",
              "      <th>Payments</th>\n",
              "    </tr>\n",
              "  </thead>\n",
              "  <tbody>\n",
              "    <tr>\n",
              "      <th>0</th>\n",
              "      <td>Sat, Oct 11</td>\n",
              "      <td>7723.0</td>\n",
              "      <td>687.0</td>\n",
              "      <td>134.0</td>\n",
              "      <td>70.0</td>\n",
              "    </tr>\n",
              "    <tr>\n",
              "      <th>1</th>\n",
              "      <td>Sun, Oct 12</td>\n",
              "      <td>9102.0</td>\n",
              "      <td>779.0</td>\n",
              "      <td>147.0</td>\n",
              "      <td>70.0</td>\n",
              "    </tr>\n",
              "    <tr>\n",
              "      <th>2</th>\n",
              "      <td>Mon, Oct 13</td>\n",
              "      <td>10511.0</td>\n",
              "      <td>909.0</td>\n",
              "      <td>167.0</td>\n",
              "      <td>95.0</td>\n",
              "    </tr>\n",
              "    <tr>\n",
              "      <th>3</th>\n",
              "      <td>Tue, Oct 14</td>\n",
              "      <td>9871.0</td>\n",
              "      <td>836.0</td>\n",
              "      <td>156.0</td>\n",
              "      <td>105.0</td>\n",
              "    </tr>\n",
              "    <tr>\n",
              "      <th>4</th>\n",
              "      <td>Wed, Oct 15</td>\n",
              "      <td>10014.0</td>\n",
              "      <td>837.0</td>\n",
              "      <td>163.0</td>\n",
              "      <td>64.0</td>\n",
              "    </tr>\n",
              "    <tr>\n",
              "      <th>5</th>\n",
              "      <td>Thu, Oct 16</td>\n",
              "      <td>9670.0</td>\n",
              "      <td>823.0</td>\n",
              "      <td>138.0</td>\n",
              "      <td>82.0</td>\n",
              "    </tr>\n",
              "    <tr>\n",
              "      <th>6</th>\n",
              "      <td>Fri, Oct 17</td>\n",
              "      <td>9008.0</td>\n",
              "      <td>748.0</td>\n",
              "      <td>146.0</td>\n",
              "      <td>76.0</td>\n",
              "    </tr>\n",
              "    <tr>\n",
              "      <th>7</th>\n",
              "      <td>Sat, Oct 18</td>\n",
              "      <td>7434.0</td>\n",
              "      <td>632.0</td>\n",
              "      <td>110.0</td>\n",
              "      <td>70.0</td>\n",
              "    </tr>\n",
              "    <tr>\n",
              "      <th>8</th>\n",
              "      <td>Sun, Oct 19</td>\n",
              "      <td>8459.0</td>\n",
              "      <td>691.0</td>\n",
              "      <td>131.0</td>\n",
              "      <td>60.0</td>\n",
              "    </tr>\n",
              "    <tr>\n",
              "      <th>9</th>\n",
              "      <td>Mon, Oct 20</td>\n",
              "      <td>10667.0</td>\n",
              "      <td>861.0</td>\n",
              "      <td>165.0</td>\n",
              "      <td>97.0</td>\n",
              "    </tr>\n",
              "    <tr>\n",
              "      <th>10</th>\n",
              "      <td>Tue, Oct 21</td>\n",
              "      <td>10660.0</td>\n",
              "      <td>867.0</td>\n",
              "      <td>196.0</td>\n",
              "      <td>105.0</td>\n",
              "    </tr>\n",
              "    <tr>\n",
              "      <th>11</th>\n",
              "      <td>Wed, Oct 22</td>\n",
              "      <td>9947.0</td>\n",
              "      <td>838.0</td>\n",
              "      <td>162.0</td>\n",
              "      <td>92.0</td>\n",
              "    </tr>\n",
              "    <tr>\n",
              "      <th>12</th>\n",
              "      <td>Thu, Oct 23</td>\n",
              "      <td>8324.0</td>\n",
              "      <td>665.0</td>\n",
              "      <td>127.0</td>\n",
              "      <td>56.0</td>\n",
              "    </tr>\n",
              "    <tr>\n",
              "      <th>13</th>\n",
              "      <td>Fri, Oct 24</td>\n",
              "      <td>9434.0</td>\n",
              "      <td>673.0</td>\n",
              "      <td>220.0</td>\n",
              "      <td>122.0</td>\n",
              "    </tr>\n",
              "    <tr>\n",
              "      <th>14</th>\n",
              "      <td>Sat, Oct 25</td>\n",
              "      <td>8687.0</td>\n",
              "      <td>691.0</td>\n",
              "      <td>176.0</td>\n",
              "      <td>128.0</td>\n",
              "    </tr>\n",
              "    <tr>\n",
              "      <th>15</th>\n",
              "      <td>Sun, Oct 26</td>\n",
              "      <td>8896.0</td>\n",
              "      <td>708.0</td>\n",
              "      <td>161.0</td>\n",
              "      <td>104.0</td>\n",
              "    </tr>\n",
              "    <tr>\n",
              "      <th>16</th>\n",
              "      <td>Mon, Oct 27</td>\n",
              "      <td>9535.0</td>\n",
              "      <td>759.0</td>\n",
              "      <td>233.0</td>\n",
              "      <td>124.0</td>\n",
              "    </tr>\n",
              "    <tr>\n",
              "      <th>17</th>\n",
              "      <td>Tue, Oct 28</td>\n",
              "      <td>9363.0</td>\n",
              "      <td>736.0</td>\n",
              "      <td>154.0</td>\n",
              "      <td>91.0</td>\n",
              "    </tr>\n",
              "    <tr>\n",
              "      <th>18</th>\n",
              "      <td>Wed, Oct 29</td>\n",
              "      <td>9327.0</td>\n",
              "      <td>739.0</td>\n",
              "      <td>196.0</td>\n",
              "      <td>86.0</td>\n",
              "    </tr>\n",
              "    <tr>\n",
              "      <th>19</th>\n",
              "      <td>Thu, Oct 30</td>\n",
              "      <td>9345.0</td>\n",
              "      <td>734.0</td>\n",
              "      <td>167.0</td>\n",
              "      <td>75.0</td>\n",
              "    </tr>\n",
              "    <tr>\n",
              "      <th>20</th>\n",
              "      <td>Fri, Oct 31</td>\n",
              "      <td>8890.0</td>\n",
              "      <td>706.0</td>\n",
              "      <td>174.0</td>\n",
              "      <td>101.0</td>\n",
              "    </tr>\n",
              "    <tr>\n",
              "      <th>21</th>\n",
              "      <td>Sat, Nov 1</td>\n",
              "      <td>8460.0</td>\n",
              "      <td>681.0</td>\n",
              "      <td>156.0</td>\n",
              "      <td>93.0</td>\n",
              "    </tr>\n",
              "    <tr>\n",
              "      <th>22</th>\n",
              "      <td>Sun, Nov 2</td>\n",
              "      <td>8836.0</td>\n",
              "      <td>693.0</td>\n",
              "      <td>206.0</td>\n",
              "      <td>67.0</td>\n",
              "    </tr>\n",
              "    <tr>\n",
              "      <th>23</th>\n",
              "      <td>Mon, Nov 3</td>\n",
              "      <td>9437.0</td>\n",
              "      <td>788.0</td>\n",
              "      <td>NaN</td>\n",
              "      <td>NaN</td>\n",
              "    </tr>\n",
              "    <tr>\n",
              "      <th>24</th>\n",
              "      <td>Tue, Nov 4</td>\n",
              "      <td>9420.0</td>\n",
              "      <td>781.0</td>\n",
              "      <td>NaN</td>\n",
              "      <td>NaN</td>\n",
              "    </tr>\n",
              "    <tr>\n",
              "      <th>25</th>\n",
              "      <td>Wed, Nov 5</td>\n",
              "      <td>9570.0</td>\n",
              "      <td>805.0</td>\n",
              "      <td>NaN</td>\n",
              "      <td>NaN</td>\n",
              "    </tr>\n",
              "    <tr>\n",
              "      <th>26</th>\n",
              "      <td>Thu, Nov 6</td>\n",
              "      <td>9921.0</td>\n",
              "      <td>830.0</td>\n",
              "      <td>NaN</td>\n",
              "      <td>NaN</td>\n",
              "    </tr>\n",
              "    <tr>\n",
              "      <th>27</th>\n",
              "      <td>Fri, Nov 7</td>\n",
              "      <td>9424.0</td>\n",
              "      <td>781.0</td>\n",
              "      <td>NaN</td>\n",
              "      <td>NaN</td>\n",
              "    </tr>\n",
              "    <tr>\n",
              "      <th>28</th>\n",
              "      <td>Sat, Nov 8</td>\n",
              "      <td>9010.0</td>\n",
              "      <td>756.0</td>\n",
              "      <td>NaN</td>\n",
              "      <td>NaN</td>\n",
              "    </tr>\n",
              "    <tr>\n",
              "      <th>29</th>\n",
              "      <td>Sun, Nov 9</td>\n",
              "      <td>9656.0</td>\n",
              "      <td>825.0</td>\n",
              "      <td>NaN</td>\n",
              "      <td>NaN</td>\n",
              "    </tr>\n",
              "    <tr>\n",
              "      <th>30</th>\n",
              "      <td>Mon, Nov 10</td>\n",
              "      <td>10419.0</td>\n",
              "      <td>874.0</td>\n",
              "      <td>NaN</td>\n",
              "      <td>NaN</td>\n",
              "    </tr>\n",
              "    <tr>\n",
              "      <th>31</th>\n",
              "      <td>Tue, Nov 11</td>\n",
              "      <td>9880.0</td>\n",
              "      <td>830.0</td>\n",
              "      <td>NaN</td>\n",
              "      <td>NaN</td>\n",
              "    </tr>\n",
              "    <tr>\n",
              "      <th>32</th>\n",
              "      <td>Wed, Nov 12</td>\n",
              "      <td>10134.0</td>\n",
              "      <td>801.0</td>\n",
              "      <td>NaN</td>\n",
              "      <td>NaN</td>\n",
              "    </tr>\n",
              "    <tr>\n",
              "      <th>33</th>\n",
              "      <td>Thu, Nov 13</td>\n",
              "      <td>9717.0</td>\n",
              "      <td>814.0</td>\n",
              "      <td>NaN</td>\n",
              "      <td>NaN</td>\n",
              "    </tr>\n",
              "    <tr>\n",
              "      <th>34</th>\n",
              "      <td>Fri, Nov 14</td>\n",
              "      <td>9192.0</td>\n",
              "      <td>735.0</td>\n",
              "      <td>NaN</td>\n",
              "      <td>NaN</td>\n",
              "    </tr>\n",
              "    <tr>\n",
              "      <th>35</th>\n",
              "      <td>Sat, Nov 15</td>\n",
              "      <td>8630.0</td>\n",
              "      <td>743.0</td>\n",
              "      <td>NaN</td>\n",
              "      <td>NaN</td>\n",
              "    </tr>\n",
              "    <tr>\n",
              "      <th>36</th>\n",
              "      <td>Sun, Nov 16</td>\n",
              "      <td>8970.0</td>\n",
              "      <td>722.0</td>\n",
              "      <td>NaN</td>\n",
              "      <td>NaN</td>\n",
              "    </tr>\n",
              "    <tr>\n",
              "      <th>37</th>\n",
              "      <td>NaN</td>\n",
              "      <td>NaN</td>\n",
              "      <td>NaN</td>\n",
              "      <td>NaN</td>\n",
              "      <td>NaN</td>\n",
              "    </tr>\n",
              "    <tr>\n",
              "      <th>38</th>\n",
              "      <td>NaN</td>\n",
              "      <td>NaN</td>\n",
              "      <td>NaN</td>\n",
              "      <td>NaN</td>\n",
              "      <td>NaN</td>\n",
              "    </tr>\n",
              "  </tbody>\n",
              "</table>\n",
              "</div>"
            ],
            "text/plain": [
              "           Date  Pageviews  Clicks  Enrollments  Payments\n",
              "0   Sat, Oct 11     7723.0   687.0        134.0      70.0\n",
              "1   Sun, Oct 12     9102.0   779.0        147.0      70.0\n",
              "2   Mon, Oct 13    10511.0   909.0        167.0      95.0\n",
              "3   Tue, Oct 14     9871.0   836.0        156.0     105.0\n",
              "4   Wed, Oct 15    10014.0   837.0        163.0      64.0\n",
              "5   Thu, Oct 16     9670.0   823.0        138.0      82.0\n",
              "6   Fri, Oct 17     9008.0   748.0        146.0      76.0\n",
              "7   Sat, Oct 18     7434.0   632.0        110.0      70.0\n",
              "8   Sun, Oct 19     8459.0   691.0        131.0      60.0\n",
              "9   Mon, Oct 20    10667.0   861.0        165.0      97.0\n",
              "10  Tue, Oct 21    10660.0   867.0        196.0     105.0\n",
              "11  Wed, Oct 22     9947.0   838.0        162.0      92.0\n",
              "12  Thu, Oct 23     8324.0   665.0        127.0      56.0\n",
              "13  Fri, Oct 24     9434.0   673.0        220.0     122.0\n",
              "14  Sat, Oct 25     8687.0   691.0        176.0     128.0\n",
              "15  Sun, Oct 26     8896.0   708.0        161.0     104.0\n",
              "16  Mon, Oct 27     9535.0   759.0        233.0     124.0\n",
              "17  Tue, Oct 28     9363.0   736.0        154.0      91.0\n",
              "18  Wed, Oct 29     9327.0   739.0        196.0      86.0\n",
              "19  Thu, Oct 30     9345.0   734.0        167.0      75.0\n",
              "20  Fri, Oct 31     8890.0   706.0        174.0     101.0\n",
              "21   Sat, Nov 1     8460.0   681.0        156.0      93.0\n",
              "22   Sun, Nov 2     8836.0   693.0        206.0      67.0\n",
              "23   Mon, Nov 3     9437.0   788.0          NaN       NaN\n",
              "24   Tue, Nov 4     9420.0   781.0          NaN       NaN\n",
              "25   Wed, Nov 5     9570.0   805.0          NaN       NaN\n",
              "26   Thu, Nov 6     9921.0   830.0          NaN       NaN\n",
              "27   Fri, Nov 7     9424.0   781.0          NaN       NaN\n",
              "28   Sat, Nov 8     9010.0   756.0          NaN       NaN\n",
              "29   Sun, Nov 9     9656.0   825.0          NaN       NaN\n",
              "30  Mon, Nov 10    10419.0   874.0          NaN       NaN\n",
              "31  Tue, Nov 11     9880.0   830.0          NaN       NaN\n",
              "32  Wed, Nov 12    10134.0   801.0          NaN       NaN\n",
              "33  Thu, Nov 13     9717.0   814.0          NaN       NaN\n",
              "34  Fri, Nov 14     9192.0   735.0          NaN       NaN\n",
              "35  Sat, Nov 15     8630.0   743.0          NaN       NaN\n",
              "36  Sun, Nov 16     8970.0   722.0          NaN       NaN\n",
              "37          NaN        NaN     NaN          NaN       NaN\n",
              "38          NaN        NaN     NaN          NaN       NaN"
            ]
          },
          "metadata": {
            "tags": []
          },
          "execution_count": 74
        }
      ]
    },
    {
      "cell_type": "markdown",
      "metadata": {
        "id": "5G6fDrQFGXZI",
        "colab_type": "text"
      },
      "source": [
        "### Sanity Checks"
      ]
    },
    {
      "cell_type": "code",
      "metadata": {
        "id": "7X9f4rG_zy3s",
        "colab_type": "code",
        "colab": {}
      },
      "source": [
        "# Because our variants involve enrollment and payment, we can only use those complete records. drop NAs.\n",
        "control.dropna(inplace=True)\n",
        "experiment.dropna(inplace=True)"
      ],
      "execution_count": 0,
      "outputs": []
    },
    {
      "cell_type": "code",
      "metadata": {
        "id": "tvVtNpRo4eR_",
        "colab_type": "code",
        "colab": {}
      },
      "source": [
        "# calculate sums for the variables.\n",
        "# cookie\n",
        "cookie={}\n",
        "cookie['control']= control.Pageviews.sum()\n",
        "cookie['experiment']= experiment.Pageviews.sum()\n",
        "# click\n",
        "click={}\n",
        "click['control']= control.Clicks.sum()\n",
        "click['experiment']= experiment.Clicks.sum()\n",
        "# payment\n",
        "payment={}\n",
        "payment['control']= control.Payments.sum()\n",
        "payment['experiment']= experiment.Payments.sum()\n",
        "# enrollment\n",
        "enrollment={}\n",
        "enrollment['control']=control.Enrollments.sum()\n",
        "enrollment['experiment']= experiment.Enrollments.sum()"
      ],
      "execution_count": 0,
      "outputs": []
    },
    {
      "cell_type": "code",
      "metadata": {
        "id": "E87_bTZH5aQk",
        "colab_type": "code",
        "outputId": "26d220c4-7dd7-4c2b-ca76-e929ee859f33",
        "colab": {
          "base_uri": "https://localhost:8080/",
          "height": 50
        }
      },
      "source": [
        "# cookie\n",
        "# Use alpha=0.5\n",
        "cookie['sd']= (0.5*0.5/(cookie['control']+cookie['experiment']))**0.5\n",
        "cookie['margin']= cookie['sd']*1.96\n",
        "cookie['CI_lower']=0.5-cookie['margin']\n",
        "cookie['CI_upper']=0.5+cookie['margin']\n",
        "#check whether the control-assign rate is within the CI\n",
        "print(cookie['CI_lower'],cookie['CI_upper'])\n",
        "print(cookie['control']/(cookie['control']+cookie['experiment']))"
      ],
      "execution_count": 77,
      "outputs": [
        {
          "output_type": "stream",
          "text": [
            "0.49849413322889896 0.501505866771101\n",
            "0.500945634850363\n"
          ],
          "name": "stdout"
        }
      ]
    },
    {
      "cell_type": "code",
      "metadata": {
        "id": "C8MUFZ6g56K6",
        "colab_type": "code",
        "outputId": "c882b9f1-fcb6-4a51-d2b2-fc938d03642c",
        "colab": {
          "base_uri": "https://localhost:8080/",
          "height": 50
        }
      },
      "source": [
        "# click\n",
        "click['sd']= (0.5*0.5/(click['control']+click['experiment']))**0.5\n",
        "click['margin']= click['sd']*1.96\n",
        "click['CI_lower']=0.5-click['margin']\n",
        "click['CI_upper']=0.5+click['margin']\n",
        "#check whether the control-assign rate is within the CI\n",
        "print(click['CI_lower'],click['CI_upper'])\n",
        "print(click['control']/(click['control']+click['experiment']))"
      ],
      "execution_count": 78,
      "outputs": [
        {
          "output_type": "stream",
          "text": [
            "0.4947279053856712 0.5052720946143289\n",
            "0.5004775272769368\n"
          ],
          "name": "stdout"
        }
      ]
    },
    {
      "cell_type": "code",
      "metadata": {
        "id": "uhOMLhnA7mnm",
        "colab_type": "code",
        "outputId": "5f0f21a1-aeab-4865-c55a-7edbf95e95ef",
        "colab": {
          "base_uri": "https://localhost:8080/",
          "height": 50
        }
      },
      "source": [
        "#CTP\n",
        "CTP={}\n",
        "CTP['p_pool']= (click['control']+click['experiment'])/(cookie['control']+cookie['experiment'])\n",
        "CTP['p_experiment']=click['experiment']/cookie['experiment']\n",
        "CTP['p_control']= click['control']/cookie['control']\n",
        "CTP['d']= CTP['p_experiment']-CTP['p_control']\n",
        "CTP['SE_pool']= (CTP['p_pool']*(1-CTP['p_pool'])*(1/cookie['control']+1/cookie['experiment']))**0.5\n",
        "CTP['margin']= 1.96* CTP['SE_pool']\n",
        "CTP['CI_lower']= -CTP['margin']\n",
        "CTP['CI_upper']=CTP['margin']\n",
        "print(CTP['CI_lower'],CTP['CI_upper'])\n",
        "print(CTP['d'])"
      ],
      "execution_count": 79,
      "outputs": [
        {
          "output_type": "stream",
          "text": [
            "-0.0016488088774456579 0.0016488088774456579\n",
            "0.0001527615025272433\n"
          ],
          "name": "stdout"
        }
      ]
    },
    {
      "cell_type": "markdown",
      "metadata": {
        "id": "onINUMvx-wMi",
        "colab_type": "text"
      },
      "source": [
        "Therefore, for all the invariants, the experiment passes the sanity checks."
      ]
    },
    {
      "cell_type": "markdown",
      "metadata": {
        "id": "PMLcb3p4GZqi",
        "colab_type": "text"
      },
      "source": [
        "### Result Analysis"
      ]
    },
    {
      "cell_type": "markdown",
      "metadata": {
        "id": "0IeoWCkOGb55",
        "colab_type": "text"
      },
      "source": [
        "#### Effect Size Tests"
      ]
    },
    {
      "cell_type": "markdown",
      "metadata": {
        "id": "9Bp50m_Z_XTP",
        "colab_type": "text"
      },
      "source": [
        "For gross conversion, retention, and net conversion, we will calculate the difference and see if that's within CI for h0. "
      ]
    },
    {
      "cell_type": "code",
      "metadata": {
        "id": "jvzemyi-Hz6V",
        "colab_type": "code",
        "colab": {}
      },
      "source": [
        "# Bonferroni correction would be too conservative in this case, so I choose not to use it. calculate z\n",
        "z=get_z_star(0.05)"
      ],
      "execution_count": 0,
      "outputs": []
    },
    {
      "cell_type": "code",
      "metadata": {
        "id": "WcLGghOR_DeI",
        "colab_type": "code",
        "outputId": "0479db3e-6a35-43f3-b9e6-1a1a9f761b1c",
        "colab": {
          "base_uri": "https://localhost:8080/",
          "height": 50
        }
      },
      "source": [
        "# gross conversion. \n",
        "GConversion={}\n",
        "GConversion['experiment']= enrollment['experiment']/click['experiment']\n",
        "GConversion['control']= enrollment['control']/click['control']\n",
        "GConversion['d']= GConversion['experiment']- GConversion['control']\n",
        "GConversion['p_pool']= (enrollment['experiment']+enrollment['control'])/(click['experiment']+click['control'])\n",
        "GConversion['SE_pool']= (GConversion['p_pool']*(1-GConversion['p_pool'])*(1/click['control']+1/click['experiment']))**0.5\n",
        "GConversion['margin']= GConversion['SE_pool']*z\n",
        "GConversion['CI_lower']= GConversion['d']-GConversion['margin']\n",
        "GConversion['CI_upper']= GConversion['d']+ GConversion['margin']\n",
        "print(GConversion['CI_lower'],GConversion['CI_upper'])\n",
        "print('practical:0.01')"
      ],
      "execution_count": 82,
      "outputs": [
        {
          "output_type": "stream",
          "text": [
            "-0.02912320088750467 -0.011986548273218461\n",
            "practical:0.01\n"
          ],
          "name": "stdout"
        }
      ]
    },
    {
      "cell_type": "code",
      "metadata": {
        "id": "IVYQ_OoWAOwV",
        "colab_type": "code",
        "colab": {}
      },
      "source": [
        "# # retention. We dropped this metric at the first place\n",
        "# Retention={}\n",
        "# Retention['experiment']= payment['experiment']/enrollment['experiment']\n",
        "# Retention['control']= payment['control']/enrollment['control']\n",
        "# Retention['d']= Retention['experiment']-Retention['control']\n",
        "# Retention['p_pool']= (payment['experiment']+payment['control'])/(enrollment['experiment']+enrollment['control'])\n",
        "# Retention['SE_pool']= (Retention['p_pool']*(1-Retention['p_pool'])*(1/enrollment['experiment']+1/enrollment['control']))**0.5\n",
        "# Retention['margin']= z*Retention['SE_pool']\n",
        "# Retention['CI_lower']= Retention['d']-Retention['margin']\n",
        "# Retention['CI_upper']= Retention['d']+Retention['margin']\n",
        "# print(Retention['CI_lower'],Retention['CI_upper'])\n",
        "# print(Retention['d'],'practical:0.01')"
      ],
      "execution_count": 0,
      "outputs": []
    },
    {
      "cell_type": "code",
      "metadata": {
        "id": "Ig7NBV-VAO3T",
        "colab_type": "code",
        "outputId": "ad60818d-1f58-452c-80f8-7025a9178974",
        "colab": {
          "base_uri": "https://localhost:8080/",
          "height": 50
        }
      },
      "source": [
        "# net conversion\n",
        "NConversion={}\n",
        "NConversion['experiment']= payment['experiment']/click['experiment']\n",
        "NConversion['control']=payment['control']/click['control']\n",
        "NConversion['d']= NConversion['experiment']- NConversion['control']\n",
        "NConversion['p_pool']= (payment['experiment']+payment['control'])/(click['control']+click['experiment'])\n",
        "NConversion['SE_pool']= (NConversion['p_pool']*(1-NConversion['p_pool'])*(1/click['experiment']+1/click['control']))**0.5\n",
        "NConversion['margin']= z*NConversion['SE_pool']\n",
        "NConversion['CI_lower']= NConversion['d']-NConversion['margin']\n",
        "NConversion['CI_upper']= NConversion['d']+NConversion['margin']\n",
        "print(NConversion['CI_lower'],NConversion['CI_upper'])\n",
        "print('practical:0.0075')"
      ],
      "execution_count": 83,
      "outputs": [
        {
          "output_type": "stream",
          "text": [
            "-0.011604500677993734 0.0018570553289054001\n",
            "practical:0.0075\n"
          ],
          "name": "stdout"
        }
      ]
    },
    {
      "cell_type": "markdown",
      "metadata": {
        "id": "MbEirsKWJsIZ",
        "colab_type": "text"
      },
      "source": [
        "In sum, gross conversion has practically significant change; net conversion does not have statistically significant change."
      ]
    },
    {
      "cell_type": "markdown",
      "metadata": {
        "id": "KF72RGSrGim_",
        "colab_type": "text"
      },
      "source": [
        "#### Sign Tests"
      ]
    },
    {
      "cell_type": "code",
      "metadata": {
        "id": "TKb1f9b8J8Pz",
        "colab_type": "code",
        "colab": {
          "base_uri": "https://localhost:8080/",
          "height": 195
        },
        "outputId": "f894755d-f225-4476-f42f-1b301f8293c7"
      },
      "source": [
        "# combine data sets and calculate signs.\n",
        "# merge by dates\n",
        "full_data= control.merge(experiment,on='Date')\n",
        "full_data.head()"
      ],
      "execution_count": 84,
      "outputs": [
        {
          "output_type": "execute_result",
          "data": {
            "text/html": [
              "<div>\n",
              "<style scoped>\n",
              "    .dataframe tbody tr th:only-of-type {\n",
              "        vertical-align: middle;\n",
              "    }\n",
              "\n",
              "    .dataframe tbody tr th {\n",
              "        vertical-align: top;\n",
              "    }\n",
              "\n",
              "    .dataframe thead th {\n",
              "        text-align: right;\n",
              "    }\n",
              "</style>\n",
              "<table border=\"1\" class=\"dataframe\">\n",
              "  <thead>\n",
              "    <tr style=\"text-align: right;\">\n",
              "      <th></th>\n",
              "      <th>Date</th>\n",
              "      <th>Pageviews_x</th>\n",
              "      <th>Clicks_x</th>\n",
              "      <th>Enrollments_x</th>\n",
              "      <th>Payments_x</th>\n",
              "      <th>Pageviews_y</th>\n",
              "      <th>Clicks_y</th>\n",
              "      <th>Enrollments_y</th>\n",
              "      <th>Payments_y</th>\n",
              "    </tr>\n",
              "  </thead>\n",
              "  <tbody>\n",
              "    <tr>\n",
              "      <th>0</th>\n",
              "      <td>Sat, Oct 11</td>\n",
              "      <td>7723.0</td>\n",
              "      <td>687.0</td>\n",
              "      <td>134.0</td>\n",
              "      <td>70.0</td>\n",
              "      <td>7716</td>\n",
              "      <td>686</td>\n",
              "      <td>105.0</td>\n",
              "      <td>34.0</td>\n",
              "    </tr>\n",
              "    <tr>\n",
              "      <th>1</th>\n",
              "      <td>Sun, Oct 12</td>\n",
              "      <td>9102.0</td>\n",
              "      <td>779.0</td>\n",
              "      <td>147.0</td>\n",
              "      <td>70.0</td>\n",
              "      <td>9288</td>\n",
              "      <td>785</td>\n",
              "      <td>116.0</td>\n",
              "      <td>91.0</td>\n",
              "    </tr>\n",
              "    <tr>\n",
              "      <th>2</th>\n",
              "      <td>Mon, Oct 13</td>\n",
              "      <td>10511.0</td>\n",
              "      <td>909.0</td>\n",
              "      <td>167.0</td>\n",
              "      <td>95.0</td>\n",
              "      <td>10480</td>\n",
              "      <td>884</td>\n",
              "      <td>145.0</td>\n",
              "      <td>79.0</td>\n",
              "    </tr>\n",
              "    <tr>\n",
              "      <th>3</th>\n",
              "      <td>Tue, Oct 14</td>\n",
              "      <td>9871.0</td>\n",
              "      <td>836.0</td>\n",
              "      <td>156.0</td>\n",
              "      <td>105.0</td>\n",
              "      <td>9867</td>\n",
              "      <td>827</td>\n",
              "      <td>138.0</td>\n",
              "      <td>92.0</td>\n",
              "    </tr>\n",
              "    <tr>\n",
              "      <th>4</th>\n",
              "      <td>Wed, Oct 15</td>\n",
              "      <td>10014.0</td>\n",
              "      <td>837.0</td>\n",
              "      <td>163.0</td>\n",
              "      <td>64.0</td>\n",
              "      <td>9793</td>\n",
              "      <td>832</td>\n",
              "      <td>140.0</td>\n",
              "      <td>94.0</td>\n",
              "    </tr>\n",
              "  </tbody>\n",
              "</table>\n",
              "</div>"
            ],
            "text/plain": [
              "          Date  Pageviews_x  Clicks_x  ...  Clicks_y  Enrollments_y  Payments_y\n",
              "0  Sat, Oct 11       7723.0     687.0  ...       686          105.0        34.0\n",
              "1  Sun, Oct 12       9102.0     779.0  ...       785          116.0        91.0\n",
              "2  Mon, Oct 13      10511.0     909.0  ...       884          145.0        79.0\n",
              "3  Tue, Oct 14       9871.0     836.0  ...       827          138.0        92.0\n",
              "4  Wed, Oct 15      10014.0     837.0  ...       832          140.0        94.0\n",
              "\n",
              "[5 rows x 9 columns]"
            ]
          },
          "metadata": {
            "tags": []
          },
          "execution_count": 84
        }
      ]
    },
    {
      "cell_type": "code",
      "metadata": {
        "id": "toQdvPYQJk2W",
        "colab_type": "code",
        "colab": {}
      },
      "source": [
        "#sign test for GConversion (enrollment/click) and NConversion (payment/click)\n",
        "full_data['experiment_GConversion']= full_data.Enrollments_y\t/full_data.Clicks_y\n",
        "full_data['control_GConversion']= full_data.Enrollments_x\t/full_data.Clicks_x\n",
        "full_data['experiment_NConversion']=full_data.Payments_y\t/full_data.Clicks_y\n",
        "full_data['control_NConversion']= full_data.Payments_x\t/full_data.Clicks_x\n",
        "full_data['sign_GConversion']= np.where(full_data.experiment_GConversion>full_data.control_GConversion,1,0)\n",
        "full_data['sign_NConversion']= np.where(full_data.experiment_NConversion>full_data.control_NConversion,1,0)"
      ],
      "execution_count": 0,
      "outputs": []
    },
    {
      "cell_type": "code",
      "metadata": {
        "id": "Acw7VCciL3c2",
        "colab_type": "code",
        "colab": {
          "base_uri": "https://localhost:8080/",
          "height": 383
        },
        "outputId": "3fb7bd39-6f15-4431-b5f0-4b397587e43d"
      },
      "source": [
        "full_data.head()"
      ],
      "execution_count": 86,
      "outputs": [
        {
          "output_type": "execute_result",
          "data": {
            "text/html": [
              "<div>\n",
              "<style scoped>\n",
              "    .dataframe tbody tr th:only-of-type {\n",
              "        vertical-align: middle;\n",
              "    }\n",
              "\n",
              "    .dataframe tbody tr th {\n",
              "        vertical-align: top;\n",
              "    }\n",
              "\n",
              "    .dataframe thead th {\n",
              "        text-align: right;\n",
              "    }\n",
              "</style>\n",
              "<table border=\"1\" class=\"dataframe\">\n",
              "  <thead>\n",
              "    <tr style=\"text-align: right;\">\n",
              "      <th></th>\n",
              "      <th>Date</th>\n",
              "      <th>Pageviews_x</th>\n",
              "      <th>Clicks_x</th>\n",
              "      <th>Enrollments_x</th>\n",
              "      <th>Payments_x</th>\n",
              "      <th>Pageviews_y</th>\n",
              "      <th>Clicks_y</th>\n",
              "      <th>Enrollments_y</th>\n",
              "      <th>Payments_y</th>\n",
              "      <th>experiment_GConversion</th>\n",
              "      <th>control_GConversion</th>\n",
              "      <th>experiment_NConversion</th>\n",
              "      <th>control_NConversion</th>\n",
              "      <th>sign_GConversion</th>\n",
              "      <th>sign_NConversion</th>\n",
              "    </tr>\n",
              "  </thead>\n",
              "  <tbody>\n",
              "    <tr>\n",
              "      <th>0</th>\n",
              "      <td>Sat, Oct 11</td>\n",
              "      <td>7723.0</td>\n",
              "      <td>687.0</td>\n",
              "      <td>134.0</td>\n",
              "      <td>70.0</td>\n",
              "      <td>7716</td>\n",
              "      <td>686</td>\n",
              "      <td>105.0</td>\n",
              "      <td>34.0</td>\n",
              "      <td>0.153061</td>\n",
              "      <td>0.195051</td>\n",
              "      <td>0.049563</td>\n",
              "      <td>0.101892</td>\n",
              "      <td>0</td>\n",
              "      <td>0</td>\n",
              "    </tr>\n",
              "    <tr>\n",
              "      <th>1</th>\n",
              "      <td>Sun, Oct 12</td>\n",
              "      <td>9102.0</td>\n",
              "      <td>779.0</td>\n",
              "      <td>147.0</td>\n",
              "      <td>70.0</td>\n",
              "      <td>9288</td>\n",
              "      <td>785</td>\n",
              "      <td>116.0</td>\n",
              "      <td>91.0</td>\n",
              "      <td>0.147771</td>\n",
              "      <td>0.188703</td>\n",
              "      <td>0.115924</td>\n",
              "      <td>0.089859</td>\n",
              "      <td>0</td>\n",
              "      <td>1</td>\n",
              "    </tr>\n",
              "    <tr>\n",
              "      <th>2</th>\n",
              "      <td>Mon, Oct 13</td>\n",
              "      <td>10511.0</td>\n",
              "      <td>909.0</td>\n",
              "      <td>167.0</td>\n",
              "      <td>95.0</td>\n",
              "      <td>10480</td>\n",
              "      <td>884</td>\n",
              "      <td>145.0</td>\n",
              "      <td>79.0</td>\n",
              "      <td>0.164027</td>\n",
              "      <td>0.183718</td>\n",
              "      <td>0.089367</td>\n",
              "      <td>0.104510</td>\n",
              "      <td>0</td>\n",
              "      <td>0</td>\n",
              "    </tr>\n",
              "    <tr>\n",
              "      <th>3</th>\n",
              "      <td>Tue, Oct 14</td>\n",
              "      <td>9871.0</td>\n",
              "      <td>836.0</td>\n",
              "      <td>156.0</td>\n",
              "      <td>105.0</td>\n",
              "      <td>9867</td>\n",
              "      <td>827</td>\n",
              "      <td>138.0</td>\n",
              "      <td>92.0</td>\n",
              "      <td>0.166868</td>\n",
              "      <td>0.186603</td>\n",
              "      <td>0.111245</td>\n",
              "      <td>0.125598</td>\n",
              "      <td>0</td>\n",
              "      <td>0</td>\n",
              "    </tr>\n",
              "    <tr>\n",
              "      <th>4</th>\n",
              "      <td>Wed, Oct 15</td>\n",
              "      <td>10014.0</td>\n",
              "      <td>837.0</td>\n",
              "      <td>163.0</td>\n",
              "      <td>64.0</td>\n",
              "      <td>9793</td>\n",
              "      <td>832</td>\n",
              "      <td>140.0</td>\n",
              "      <td>94.0</td>\n",
              "      <td>0.168269</td>\n",
              "      <td>0.194743</td>\n",
              "      <td>0.112981</td>\n",
              "      <td>0.076464</td>\n",
              "      <td>0</td>\n",
              "      <td>1</td>\n",
              "    </tr>\n",
              "  </tbody>\n",
              "</table>\n",
              "</div>"
            ],
            "text/plain": [
              "          Date  Pageviews_x  ...  sign_GConversion  sign_NConversion\n",
              "0  Sat, Oct 11       7723.0  ...                 0                 0\n",
              "1  Sun, Oct 12       9102.0  ...                 0                 1\n",
              "2  Mon, Oct 13      10511.0  ...                 0                 0\n",
              "3  Tue, Oct 14       9871.0  ...                 0                 0\n",
              "4  Wed, Oct 15      10014.0  ...                 0                 1\n",
              "\n",
              "[5 rows x 15 columns]"
            ]
          },
          "metadata": {
            "tags": []
          },
          "execution_count": 86
        }
      ]
    },
    {
      "cell_type": "code",
      "metadata": {
        "id": "lzJewjjtLQ-p",
        "colab_type": "code",
        "colab": {
          "base_uri": "https://localhost:8080/",
          "height": 101
        },
        "outputId": "3f7bb617-8aaf-4c56-c90d-8af26b7df91e"
      },
      "source": [
        "#A summary of the signs\n",
        "sign={}\n",
        "sign['total']= len(full_data.sign_GConversion)\n",
        "sign['GConversion_1']= full_data.sign_GConversion.sum()\n",
        "sign['GConversion_1_rate']= sign['GConversion_1']/sign['total']\n",
        "sign['NConversion_1']= full_data.sign_NConversion.sum()\n",
        "sign['NConversion_1_rate']= sign['NConversion_1']/sign['total']\n",
        "sign"
      ],
      "execution_count": 87,
      "outputs": [
        {
          "output_type": "execute_result",
          "data": {
            "text/plain": [
              "{'GConversion_1': 4,\n",
              " 'GConversion_1_rate': 0.17391304347826086,\n",
              " 'NConversion_1': 10,\n",
              " 'NConversion_1_rate': 0.43478260869565216,\n",
              " 'total': 23}"
            ]
          },
          "metadata": {
            "tags": []
          },
          "execution_count": 87
        }
      ]
    },
    {
      "cell_type": "code",
      "metadata": {
        "id": "6KMr04wjLyAX",
        "colab_type": "code",
        "colab": {}
      },
      "source": [
        "# calculate p value for the 'GConversion_1_rate' and for 'NConversion_1_rate'\n",
        "import math # to calculate n choose x\n",
        "def get_prob(x,n):\n",
        "  p=math.factorial(n)/(math.factorial(x)*math.factorial(n-x))*(0.5**n)\n",
        "  return p\n",
        "\n",
        "# because we don't pre-assume the change direction of p, we should use two-tailed test.\n",
        "def get_2_side_p_value(x,n):\n",
        "  p=0\n",
        "  for i in range(x+1):\n",
        "    p=p+ get_prob(i,n)\n",
        "  return p*2"
      ],
      "execution_count": 0,
      "outputs": []
    },
    {
      "cell_type": "code",
      "metadata": {
        "id": "ph56hEXeRR5y",
        "colab_type": "code",
        "colab": {
          "base_uri": "https://localhost:8080/",
          "height": 34
        },
        "outputId": "047aebb1-6524-4545-c86c-54e41ed6b08f"
      },
      "source": [
        "# p-value for GConversion\n",
        "print(get_2_side_p_value(sign['GConversion_1'],sign['total']),0.05)"
      ],
      "execution_count": 89,
      "outputs": [
        {
          "output_type": "stream",
          "text": [
            "0.002599477767944336 0.05\n"
          ],
          "name": "stdout"
        }
      ]
    },
    {
      "cell_type": "code",
      "metadata": {
        "id": "-4_JRJkTRe51",
        "colab_type": "code",
        "colab": {
          "base_uri": "https://localhost:8080/",
          "height": 34
        },
        "outputId": "25b0990c-0bd0-49f0-eafd-e5d8111ba042"
      },
      "source": [
        "# p-value for NConversion\n",
        "print(get_2_side_p_value(sign['NConversion_1'],sign['total']),0.05)"
      ],
      "execution_count": 90,
      "outputs": [
        {
          "output_type": "stream",
          "text": [
            "0.6776394844055176 0.05\n"
          ],
          "name": "stdout"
        }
      ]
    },
    {
      "cell_type": "markdown",
      "metadata": {
        "id": "quXy_HOQGrJz",
        "colab_type": "text"
      },
      "source": [
        "#### Summary"
      ]
    },
    {
      "cell_type": "markdown",
      "metadata": {
        "id": "4QT6OZKjSyGo",
        "colab_type": "text"
      },
      "source": [
        "Therefore, the Gross Conversion has passed the sign test, but not Net Conversion."
      ]
    },
    {
      "cell_type": "markdown",
      "metadata": {
        "id": "SF1vMxXOGpks",
        "colab_type": "text"
      },
      "source": [
        "### Recommendation"
      ]
    },
    {
      "cell_type": "markdown",
      "metadata": {
        "id": "5DFxZaaqTMJI",
        "colab_type": "text"
      },
      "source": [
        "I recommend not lauching the new UI feature, as the goal was not achieved according to the test. Although the gross conversion (enrollments/clicks) has dropped significantly in a practical sense, the net conversion (payments/clicks) has not changed significantly. The net conversion is the goal we care about here."
      ]
    }
  ]
}